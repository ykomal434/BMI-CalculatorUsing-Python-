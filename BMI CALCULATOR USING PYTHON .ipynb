{
 "cells": [
  {
   "cell_type": "markdown",
   "id": "f3377d32",
   "metadata": {},
   "source": [
    "# BMI CALCULATOR"
   ]
  },
  {
   "cell_type": "markdown",
   "id": "7bf3733b",
   "metadata": {},
   "source": [
    "Body mass index (BMI) is a value derived from the mass (weight) and height of a person. The BMI is defined as the body mass divided by the square of the body height, and is expressed in units of kg/m2, resulting from mass in kilograms and height in metres."
   ]
  },
  {
   "cell_type": "markdown",
   "id": "951048e1",
   "metadata": {},
   "source": [
    "# Understanding the working of BMI Calculator\n",
    "A BMI Calculator accepts the weight and height of an individual and calculates the Body Mass Index (BMI) of that person."
   ]
  },
  {
   "cell_type": "code",
   "execution_count": 9,
   "id": "50124892",
   "metadata": {},
   "outputs": [
    {
     "name": "stdout",
     "output_type": "stream",
     "text": [
      "Enter the height in cm: 155\n",
      "Enter the weight in kg: 65\n"
     ]
    }
   ],
   "source": [
    "# asking for input from the users  \n",
    "the_height = float(input(\"Enter the height in cm: \"))  \n",
    "the_weight = float(input(\"Enter the weight in kg: \"))  "
   ]
  },
  {
   "attachments": {},
   "cell_type": "markdown",
   "id": "ec5592bd",
   "metadata": {},
   "source": [
    "we have defined two variables as the_height and the_weight which uses the input() function to accept input from the user. We have also included the float() function outside the input() function in order to convert the input string into the float data type so that we can perform calculations with it.\n",
    "\n",
    "Next, we will calculate the Body Mass Index.\n",
    "\n",
    "We will use the following formula in order to calculate BMI.\n",
    "\n",
    "BMI = WEIGHT (Kg) / HEIGHT (m)2\n",
    "\n",
    "Create BMI Calculator using Python\n",
    "Let us implement the above formula in the Python program."
   ]
  },
  {
   "cell_type": "code",
   "execution_count": 12,
   "id": "73b54b69",
   "metadata": {},
   "outputs": [],
   "source": [
    "# defining a function for BMI  \n",
    "the_BMI = the_weight / (the_height/100)**2  "
   ]
  },
  {
   "cell_type": "markdown",
   "id": "a825d0a5",
   "metadata": {},
   "source": [
    " we have defined a function for BMI using the above formula. We have divided the height by 100 to convert the centimeters into meters.\n",
    "\n",
    "Now, let us print the BMI."
   ]
  },
  {
   "cell_type": "markdown",
   "id": "b47c390a",
   "metadata": {},
   "source": [
    "# Source code\n"
   ]
  },
  {
   "cell_type": "code",
   "execution_count": 13,
   "id": "71625e2e",
   "metadata": {},
   "outputs": [
    {
     "name": "stdout",
     "output_type": "stream",
     "text": [
      "Enter the height in cm: 155\n",
      "Enter the weight in kg: 50\n",
      "Your Body Mass Index is 20.811654526534856\n",
      "Awesome! You are healthy.\n"
     ]
    }
   ],
   "source": [
    "# asking for input from the users  \n",
    "the_height = float(input(\"Enter the height in cm: \"))  \n",
    "the_weight = float(input(\"Enter the weight in kg: \"))  \n",
    "# defining a function for BMI  \n",
    "the_BMI = the_weight / (the_height/100)**2  \n",
    "# printing the BMI  \n",
    "print(\"Your Body Mass Index is\", the_BMI)  \n",
    "# using the if-elif-else conditions  \n",
    "if the_BMI <= 18.5:  \n",
    "    print(\"Oops! You are underweight.\")  \n",
    "elif the_BMI <= 24.9:  \n",
    "    print(\"Awesome! You are healthy.\")  \n",
    "elif the_BMI <= 29.9:  \n",
    "    the_print(\"Eee! You are over weight.\")  \n",
    "else:  \n",
    "    print(\"Seesh! You are obese.\")  "
   ]
  },
  {
   "cell_type": "markdown",
   "id": "fbeccef6",
   "metadata": {},
   "source": [
    "In the above code, we have used the value of the variable the_BMI in the if-elif-else statement to check if the BMI of the person lies within one of the categories.\n",
    "\n",
    "The program will print the statement on the following basis:\n",
    "\n",
    "1.If BMI is less than or equal to 18.5 then the program returns the condition for underweight.\n",
    "\n",
    "2.If BMI is less than or equal to 24.9 then the program returns the condition for Healthy.\n",
    "\n",
    "3.If BMI is less than or equal to 29.9 then the program returns the condition for overweight.\n",
    "\n",
    "4.If none of the above conditions are True then the program returns the condition for obese.\n",
    "\n",
    "(this values are taken from the nutrition book ref. Dietetics by B. Srilakshmi )\n",
    "\n",
    "Hence, the program is completed."
   ]
  },
  {
   "cell_type": "code",
   "execution_count": null,
   "id": "62169f3d",
   "metadata": {},
   "outputs": [],
   "source": []
  }
 ],
 "metadata": {
  "kernelspec": {
   "display_name": "Python 3 (ipykernel)",
   "language": "python",
   "name": "python3"
  },
  "language_info": {
   "codemirror_mode": {
    "name": "ipython",
    "version": 3
   },
   "file_extension": ".py",
   "mimetype": "text/x-python",
   "name": "python",
   "nbconvert_exporter": "python",
   "pygments_lexer": "ipython3",
   "version": "3.9.12"
  }
 },
 "nbformat": 4,
 "nbformat_minor": 5
}
